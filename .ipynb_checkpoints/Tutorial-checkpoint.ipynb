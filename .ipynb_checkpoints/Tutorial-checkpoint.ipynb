{
 "cells": [
  {
   "cell_type": "markdown",
   "metadata": {},
   "source": [
    "# Tutorial "
   ]
  },
  {
   "cell_type": "markdown",
   "metadata": {},
   "source": [
    "## Imports"
   ]
  },
  {
   "cell_type": "code",
   "execution_count": 1,
   "metadata": {},
   "outputs": [],
   "source": [
    "from formula import *\n",
    "from quantifier import *\n",
    "from exh import *"
   ]
  },
  {
   "cell_type": "markdown",
   "metadata": {},
   "source": [
    "## Create formulas\n",
    "\n",
    "Formulas are created from propositional variables. Variables have indices, such that variables with the same index always have the same truth-value and variables with different indices are logically independent. Here is a code to create a variable with index 4."
   ]
  },
  {
   "cell_type": "code",
   "execution_count": 2,
   "metadata": {},
   "outputs": [],
   "source": [
    "d = Var(4, name = \"d\") \n",
    "d1 = Var(7) # \"name\" is optional, \"name\" makes prettier display with print and helps for evaluation of formulas"
   ]
  },
  {
   "cell_type": "markdown",
   "metadata": {},
   "source": [
    "By default, *formula.py* creates 3 variables a,b and c with indices 0, 1, 2 respectively. Once some variables are defined, one can create complex formulas with & (and), | (or) and \\~ (not)."
   ]
  },
  {
   "cell_type": "code",
   "execution_count": 3,
   "metadata": {},
   "outputs": [
    {
     "name": "stdout",
     "output_type": "stream",
     "text": [
      "a or b\n",
      "a and b\n",
      "a or (not[a] and b)\n"
     ]
    }
   ],
   "source": [
    "# f1: a or b\n",
    "f1 = a | b\n",
    "print(f1)\n",
    "\n",
    "# f2: a and b\n",
    "f2 = a & b\n",
    "print(f2)\n",
    "\n",
    "# f3: a or (not a and b)\n",
    "f3 = a | (~a & b)\n",
    "print(f3)"
   ]
  },
  {
   "cell_type": "markdown",
   "metadata": {},
   "source": [
    "To turn a propositional variable into a predicate (for use in quantified formulas), one needs to specify the names of the variables it depends on."
   ]
  },
  {
   "cell_type": "code",
   "execution_count": 4,
   "metadata": {},
   "outputs": [],
   "source": [
    "d.depends_on(\"x\")"
   ]
  },
  {
   "cell_type": "markdown",
   "metadata": {},
   "source": [
    "Once this is done, one can use the following syntax to create a universal statement (using module *quantifier.py*).  A(\"x\") creates a quantifier over \"x\", which combines with \">\" and a formula to form a quantified formula."
   ]
  },
  {
   "cell_type": "code",
   "execution_count": 5,
   "metadata": {},
   "outputs": [
    {
     "name": "stdout",
     "output_type": "stream",
     "text": [
      "∀x, d(x)\n"
     ]
    }
   ],
   "source": [
    "# f4: for all x, d(x)\n",
    "f4 = A(\"x\") > d\n",
    "print(f4)"
   ]
  },
  {
   "cell_type": "markdown",
   "metadata": {},
   "source": [
    "Two simplifying tips:\n",
    " - Existential and universal quantifiers over x, y, z are created by default under the names Ax, Ey, etc.\n",
    " - If v is propositional variable, v(\"x\") returns v and sets v to depend on x\n",
    "\n",
    "Most straigthforwardly, one can create a quantified formula as follows:"
   ]
  },
  {
   "cell_type": "code",
   "execution_count": 6,
   "metadata": {},
   "outputs": [
    {
     "name": "stdout",
     "output_type": "stream",
     "text": [
      "∃y, A7(y)\n"
     ]
    }
   ],
   "source": [
    "# f5: there exists y, d(y)\n",
    "f5 = Ey > d1(\"y\")\n",
    "print(f5) # displays as A7 because we haven't given d1 a name"
   ]
  },
  {
   "cell_type": "markdown",
   "metadata": {},
   "source": [
    "## Evaluate formulas\n",
    "The simplest way to evaluate a formula uses the method *evaluate* and the variables' names."
   ]
  },
  {
   "cell_type": "code",
   "execution_count": 25,
   "metadata": {},
   "outputs": [
    {
     "name": "stdout",
     "output_type": "stream",
     "text": [
      "'a or b' is True\n"
     ]
    }
   ],
   "source": [
    "# Evaluate f1 with a True and b True.\n",
    "value = f1.evaluate(a = True, b = False)\n",
    "print(\"'{}' is {}\".format(f1, value))"
   ]
  },
  {
   "cell_type": "markdown",
   "metadata": {},
   "source": [
    "In quantified formulas, one needs to provide as many values for a predicate as there are individuals in the domain. The number of individuals in the domain is set in *options.py* and defaults to 3. The three values are provided as a list."
   ]
  },
  {
   "cell_type": "code",
   "execution_count": 26,
   "metadata": {},
   "outputs": [
    {
     "name": "stdout",
     "output_type": "stream",
     "text": [
      "'∀x, d(x)' is True\n"
     ]
    }
   ],
   "source": [
    "# Evaluate f4 with d(0) True, d(1) True and d(2) True\n",
    "value = f4.evaluate(d = [True, True, True])\n",
    "print(\"'{}' is {}\".format(f4, value))"
   ]
  },
  {
   "cell_type": "markdown",
   "metadata": {},
   "source": [
    "One may sometimes want to evaluate a formula against all possible assignments of truth-values. To do that, one construct a *Universe* object. This object constructs all possible assignments of truth-values to variables within a given set of formulas, passed as an argument to the universe constructor. The *truth_table* method displays the evaluated formula in a fancy chart."
   ]
  },
  {
   "cell_type": "code",
   "execution_count": 9,
   "metadata": {},
   "outputs": [
    {
     "name": "stdout",
     "output_type": "stream",
     "text": [
      "[[False False False]\n",
      " [ True False  True]\n",
      " [ True False  True]\n",
      " [ True  True  True]\n",
      " [False False False]\n",
      " [ True False  True]\n",
      " [ True False  True]\n",
      " [ True  True  True]]\n"
     ]
    },
    {
     "data": {
      "text/html": [
       "<table style = \"\n",
       "\tborder: 1px solid black; \n",
       "    border-collapse: collapse;\n",
       "    font-weight: normal; \n",
       "\t\"><thead><tr><th style =\"\">a</th><th style =\"\">b</th><th style =\"border-right-style: double !important;\">c</th><th style =\"border-left-style: double !important;\">a or b</th><th style =\"\">a and b</th><th style =\"\">a or (not[a] and b)</th></tr></thead><tr><th style =\"\">False</th><th style =\"\">False</th><th style =\"border-right-style: double !important;\">False</th><th style =\"border-left-style: double !important;\">False</th><th style =\"\">False</th><th style =\"\">False</th></tr><tr><th style =\"\">True</th><th style =\"\">False</th><th style =\"border-right-style: double !important;\">False</th><th style =\"border-left-style: double !important;\">True</th><th style =\"\">False</th><th style =\"\">True</th></tr><tr><th style =\"\">False</th><th style =\"\">True</th><th style =\"border-right-style: double !important;\">False</th><th style =\"border-left-style: double !important;\">True</th><th style =\"\">False</th><th style =\"\">True</th></tr><tr><th style =\"\">True</th><th style =\"\">True</th><th style =\"border-right-style: double !important;\">False</th><th style =\"border-left-style: double !important;\">True</th><th style =\"\">True</th><th style =\"\">True</th></tr><tr><th style =\"\">False</th><th style =\"\">False</th><th style =\"border-right-style: double !important;\">True</th><th style =\"border-left-style: double !important;\">False</th><th style =\"\">False</th><th style =\"\">False</th></tr><tr><th style =\"\">True</th><th style =\"\">False</th><th style =\"border-right-style: double !important;\">True</th><th style =\"border-left-style: double !important;\">True</th><th style =\"\">False</th><th style =\"\">True</th></tr><tr><th style =\"\">False</th><th style =\"\">True</th><th style =\"border-right-style: double !important;\">True</th><th style =\"border-left-style: double !important;\">True</th><th style =\"\">False</th><th style =\"\">True</th></tr><tr><th style =\"\">True</th><th style =\"\">True</th><th style =\"border-right-style: double !important;\">True</th><th style =\"border-left-style: double !important;\">True</th><th style =\"\">True</th><th style =\"\">True</th></tr></table>"
      ],
      "text/plain": [
       "<IPython.core.display.HTML object>"
      ]
     },
     "metadata": {},
     "output_type": "display_data"
    }
   ],
   "source": [
    "from worlds import Universe\n",
    "\n",
    "# A Universe can be created from formulas ; the cosntructor extracts all the independent predicates and propositional variables\n",
    "prop_universe = Universe(fs = [a, b, c])\n",
    "\n",
    "print(prop_universe.evaluate(f1, f2, f3))\n",
    "prop_universe.truth_table(f1, f2, f3)\n"
   ]
  },
  {
   "cell_type": "markdown",
   "metadata": {},
   "source": [
    "Universes come with methods to check standard logical relations: entailment, equivalence and consistency"
   ]
  },
  {
   "cell_type": "code",
   "execution_count": 10,
   "metadata": {},
   "outputs": [
    {
     "name": "stdout",
     "output_type": "stream",
     "text": [
      "False\n",
      "True\n",
      "True\n"
     ]
    }
   ],
   "source": [
    "# The first three propositions entail that \"not a\" and \"b\", contradicting the fourth. \n",
    "value = prop_universe.consistent(a | b,\n",
    "                                 ~a | ~b,\n",
    "                                 b | ~a,\n",
    "                                 a | ~b)\n",
    "print(value)\n",
    "\n",
    "value = prop_universe.entails(a | ~ b & c,\n",
    "                              ~(b & ~a) )\n",
    "print(value)\n",
    "\n",
    "# De Morgan's law\n",
    "value = prop_universe.equivalent(~a | ~c,\n",
    "                                ~(a & c) )\n",
    "print(value)"
   ]
  },
  {
   "cell_type": "markdown",
   "metadata": {},
   "source": [
    "## Exhaustification"
   ]
  },
  {
   "cell_type": "markdown",
   "metadata": {},
   "source": [
    "Exhaustification can be computed against a set of stipulated alternatives.\n",
    "\n",
    "**NB:** Innocent exclusion is computed upon creation of the object, expect slowdowns if number of worlds is big."
   ]
  },
  {
   "cell_type": "code",
   "execution_count": 11,
   "metadata": {},
   "outputs": [],
   "source": [
    "e = Exh(Ex > d, alts = [Ax > d])\n",
    "e1 = Exh(a | b, alts = [a, b, a & b])"
   ]
  },
  {
   "cell_type": "markdown",
   "metadata": {},
   "source": [
    "The program does not give you a representation of what *h* is, but one can confirm the result in a couple of ways: first, the method *diagnose* gives us the innocently excludable alternatives. Second, like any formula, we can evaluate *e* and check that it behaves like \"some but not all\". Third, we can create a *Universe* object and check for equivalence with en explicit \"some but not all\" formula."
   ]
  },
  {
   "cell_type": "code",
   "execution_count": 12,
   "metadata": {},
   "outputs": [
    {
     "name": "stdout",
     "output_type": "stream",
     "text": [
      "Maximal Sets (excl):\n",
      "[∀x, d(x)]\n",
      "\n",
      "Innocently excludable: ∀x, d(x)\n",
      "\n",
      "Maximal Sets (excl):\n",
      "[b, a and b]\n",
      "[a, a and b]\n",
      "\n",
      "Innocently excludable: a and b\n",
      "\n",
      "\n"
     ]
    },
    {
     "data": {
      "text/html": [
       "<table style = \"\n",
       "\tborder: 1px solid black; \n",
       "    border-collapse: collapse;\n",
       "    font-weight: normal; \n",
       "\t\"><thead><tr><th style =\"\">d(0)</th><th style =\"\">d(1)</th><th style =\"border-right-style: double !important;\">d(2)</th><th style =\"border-left-style: double !important;\">exh[∃x, d(x)]</th><th style =\"\">(∃x, d(x)) and not[∀x, d(x)]</th></tr></thead><tr><th style =\"\">False</th><th style =\"\">False</th><th style =\"border-right-style: double !important;\">False</th><th style =\"border-left-style: double !important;\">False</th><th style =\"\">False</th></tr><tr><th style =\"\">True</th><th style =\"\">False</th><th style =\"border-right-style: double !important;\">False</th><th style =\"border-left-style: double !important;\">True</th><th style =\"\">True</th></tr><tr><th style =\"\">False</th><th style =\"\">True</th><th style =\"border-right-style: double !important;\">False</th><th style =\"border-left-style: double !important;\">True</th><th style =\"\">True</th></tr><tr><th style =\"\">True</th><th style =\"\">True</th><th style =\"border-right-style: double !important;\">False</th><th style =\"border-left-style: double !important;\">True</th><th style =\"\">True</th></tr><tr><th style =\"\">False</th><th style =\"\">False</th><th style =\"border-right-style: double !important;\">True</th><th style =\"border-left-style: double !important;\">True</th><th style =\"\">True</th></tr><tr><th style =\"\">True</th><th style =\"\">False</th><th style =\"border-right-style: double !important;\">True</th><th style =\"border-left-style: double !important;\">True</th><th style =\"\">True</th></tr><tr><th style =\"\">False</th><th style =\"\">True</th><th style =\"border-right-style: double !important;\">True</th><th style =\"border-left-style: double !important;\">True</th><th style =\"\">True</th></tr><tr><th style =\"\">True</th><th style =\"\">True</th><th style =\"border-right-style: double !important;\">True</th><th style =\"border-left-style: double !important;\">False</th><th style =\"\">False</th></tr></table>"
      ],
      "text/plain": [
       "<IPython.core.display.HTML object>"
      ]
     },
     "metadata": {},
     "output_type": "display_data"
    },
    {
     "name": "stdout",
     "output_type": "stream",
     "text": [
      "\n",
      "Is e equivalent to 'some but not all'?\n",
      "True\n"
     ]
    }
   ],
   "source": [
    "e.diagnose()\n",
    "e1.diagnose()\n",
    "\n",
    "quant_universe = Universe(fs = [e])\n",
    "print()\n",
    "quant_universe.truth_table(e, (Ex > d) & ~(Ax > d))\n",
    "\n",
    "\n",
    "print()\n",
    "print(\"Is e equivalent to 'some but not all'?\")\n",
    "print(\n",
    "    quant_universe.equivalent(\n",
    "    e,\n",
    "    (Ex > d) & ~(Ax > d)\n",
    "    ))\n",
    "\n"
   ]
  },
  {
   "cell_type": "markdown",
   "metadata": {},
   "source": [
    "Below is a more involved example with more alternatives:"
   ]
  },
  {
   "cell_type": "code",
   "execution_count": 13,
   "metadata": {},
   "outputs": [
    {
     "name": "stdout",
     "output_type": "stream",
     "text": [
      "Maximal Sets (excl):\n",
      "[∀x, p1(x) and p2(x), ∀x, p2(x), ∃x, p1(x) and p2(x), ∃x, p2(x)]\n",
      "[∀x, p1(x) and p2(x), ∀x, p1(x), ∀x, p2(x), ∃x, p1(x) and p2(x)]\n",
      "[∀x, p1(x) and p2(x), ∀x, p1(x), ∃x, p1(x) and p2(x), ∃x, p1(x)]\n",
      "\n",
      "Innocently excludable: ∀x, p1(x) and p2(x); ∃x, p1(x) and p2(x)\n",
      "\n",
      "Maximal Sets (excl):\n",
      "[∀x, p1(x) and p2(x), ∀x, p1(x), ∀x, p2(x)]\n",
      "\n",
      "Innocently excludable: ∀x, p1(x) and p2(x); ∀x, p1(x); ∀x, p2(x)\n",
      "\n",
      "True\n",
      "True\n"
     ]
    }
   ],
   "source": [
    "p1 = Var(5, name = \"p1\")(\"x\") # constructing a new predicate and immediately indicating dependency in x\n",
    "p2 = Var(6, name = \"p2\")(\"x\")\n",
    "\n",
    "prejacent = Ax > p1 | p2\n",
    "\n",
    "exh = Exh(prejacent, alts = [Ax > p1 & p2,\n",
    "                             Ax > p1,\n",
    "                             Ax > p2,\n",
    "                             Ex > p1 & p2,\n",
    "                             Ex > p1,\n",
    "                             Ex > p2])\n",
    "exh.diagnose()\n",
    "# Reads like \"none of them did both p1 and p2\" ; an embedded implicature\n",
    "# What if we didn't have existential alternatives?\n",
    "\n",
    "exh2 = Exh(prejacent, alts = [Ax > p1 & p2,\n",
    "                              Ax > p1,\n",
    "                              Ax > p2])\n",
    "exh2.diagnose()\n",
    "universe = Universe(fs = [exh2])\n",
    "print(universe.entails(exh2, Ex > p1 & ~p2))\n",
    "print(universe.entails(exh2, Ex > p2 & ~p1))\n",
    "# Two implicatures: 1) that someone did only p1, 2) that someone did only p2"
   ]
  },
  {
   "cell_type": "markdown",
   "metadata": {},
   "source": [
    "### Automatic alternatives"
   ]
  },
  {
   "cell_type": "markdown",
   "metadata": {},
   "source": [
    "When not specified, the alternatives to the prejacent are computed in a Katzirian manner: all alternatives are considered that can be obtained from the prejacent by sub-constituent and scalar substitutions. Which alternatives were obtained by this process can be probed after the object is constructed."
   ]
  },
  {
   "cell_type": "code",
   "execution_count": 14,
   "metadata": {},
   "outputs": [
    {
     "name": "stdout",
     "output_type": "stream",
     "text": [
      "Computed alternatives [a or b or c, (a and b) or c, a or c, b or c, (a or b) and c, a and b and c, a and c, b and c, a or b, a and b, a, b, c]\n"
     ]
    }
   ],
   "source": [
    "h2 = Exh (a | b | c)\n",
    "print(\"Computed alternatives\", h2.alts)"
   ]
  },
  {
   "cell_type": "markdown",
   "metadata": {},
   "source": [
    "It is possible to specify the scales, to decide whether to allow substitution by sub-consituent."
   ]
  },
  {
   "cell_type": "code",
   "execution_count": 15,
   "metadata": {},
   "outputs": [
    {
     "name": "stdout",
     "output_type": "stream",
     "text": [
      "[a or b or c, (a and b) or c, (a or b) and c, a and b and c]\n",
      "[∃x, p1(x) or p2(x), ∃x, p1(x) and p2(x), ∃x, p1(x), ∃x, p2(x)]\n"
     ]
    }
   ],
   "source": [
    "h3 = Exh(a | b | c, subst = False) # no replacement by sub-constituent allowed (only scalar alternatives)\n",
    "print(h3.alts)\n",
    "\n",
    "h4 = Exh(Ex > p1 | p2, scales = [{\"or\", \"and\"}]) # no \"some\", \"all\" scale\n",
    "print(h4.alts)\n",
    "# NB: to avoid unbound variables, the quantifier's scope is not considered a sub-consituent of the quantifier"
   ]
  },
  {
   "cell_type": "code",
   "execution_count": 16,
   "metadata": {},
   "outputs": [
    {
     "name": "stdout",
     "output_type": "stream",
     "text": [
      "Maximal Sets (excl):\n",
      "[(a and b) or c, (a or b) and c, a and b and c]\n",
      "\n",
      "Innocently excludable: (a and b) or c; (a or b) and c; a and b and c\n",
      "\n",
      "Maximal Sets (excl):\n",
      "[∃x, p1(x) and p2(x), ∃x, p2(x)]\n",
      "[∃x, p1(x) and p2(x), ∃x, p1(x)]\n",
      "\n",
      "Innocently excludable: ∃x, p1(x) and p2(x)\n",
      "\n"
     ]
    }
   ],
   "source": [
    "h3.diagnose()\n",
    "h4.diagnose()"
   ]
  },
  {
   "cell_type": "markdown",
   "metadata": {},
   "source": [
    "## Advanced usage"
   ]
  },
  {
   "cell_type": "markdown",
   "metadata": {},
   "source": [
    "### Formulas with multiple quantifiers"
   ]
  },
  {
   "cell_type": "markdown",
   "metadata": {},
   "source": [
    "One can create multiply quantified sentences ; the number of worlds grows exponentially. One predicate that depends on two variables will give rise to 9 independent variables ; we get 2^9 = 512 worlds."
   ]
  },
  {
   "cell_type": "code",
   "execution_count": 17,
   "metadata": {},
   "outputs": [
    {
     "name": "stdout",
     "output_type": "stream",
     "text": [
      "Maximal Sets (excl):\n",
      "[∀x, ∃y, d3(x,y), ∃y, ∀x, d3(x,y)]\n",
      "\n",
      "Innocently excludable: ∀x, ∃y, d3(x,y); ∃y, ∀x, d3(x,y)\n",
      "\n"
     ]
    }
   ],
   "source": [
    "p3 = Var(13, name = \"p3\")\n",
    "prejacent = Ex > Ay > p3(\"x\", \"y\")\n",
    "\n",
    "e = Exh(prejacent, alts = [Ay > Ex > p3, Ax > Ey > p3, Ey > Ax > p3])\n",
    "e.diagnose()"
   ]
  },
  {
   "cell_type": "markdown",
   "metadata": {},
   "source": [
    "### Recursive exhaustification\n",
    "\n",
    "The object *Exh* is just like any other formula. It can be embedded, yielding recursive exhaustification. Here is for instance a replication of free choice:"
   ]
  },
  {
   "cell_type": "code",
   "execution_count": 18,
   "metadata": {},
   "outputs": [
    {
     "name": "stdout",
     "output_type": "stream",
     "text": [
      "Alternatives:\n"
     ]
    },
    {
     "data": {
      "text/html": [
       "<ul><li>exh[∃x, p1(x) or p2(x)]</li><li>exh[∃x, p1(x)]</li><li>exh[∃x, p2(x)]</li></ul>"
      ],
      "text/plain": [
       "<IPython.core.display.HTML object>"
      ]
     },
     "metadata": {},
     "output_type": "display_data"
    },
    {
     "name": "stdout",
     "output_type": "stream",
     "text": [
      "Maximal Sets (excl):\n",
      "[exh[∃x, p1(x)], exh[∃x, p2(x)]]\n",
      "\n",
      "Innocently excludable: exh[∃x, p1(x)]; exh[∃x, p2(x)]\n",
      "\n",
      "Am I allowed to do p1?\n",
      "True\n",
      "Am I allowed to do p2?\n",
      "True\n",
      "Does the sentence say that I can do p1 without doing p2?\n",
      "False\n",
      "Is the sentence compatible with a requirement to do both p1 and p2?\n",
      "True\n"
     ]
    },
    {
     "data": {
      "text/html": [
       "<ul><li>exh[∃x, p1(x) or p2(x)]</li><li>exh[∃x, p1(x)]</li><li>exh[∃x, p2(x)]</li><li>exh[∀x, p1(x) or p2(x)]</li><li>exh[∀x, p1(x)]</li><li>exh[∀x, p2(x)]</li></ul>"
      ],
      "text/plain": [
       "<IPython.core.display.HTML object>"
      ]
     },
     "metadata": {},
     "output_type": "display_data"
    },
    {
     "name": "stdout",
     "output_type": "stream",
     "text": [
      "Maximal Sets (excl):\n",
      "[exh[∃x, p1(x)], exh[∃x, p2(x)], exh[∀x, p1(x) or p2(x)], exh[∀x, p1(x)], exh[∀x, p2(x)]]\n",
      "\n",
      "Innocently excludable: exh[∃x, p1(x)]; exh[∃x, p2(x)]; exh[∀x, p1(x) or p2(x)]; exh[∀x, p1(x)]; exh[∀x, p2(x)]\n",
      "\n",
      "Does the sentence say that I can do p1 without doing p2?\n",
      "False\n",
      "Is the sentence compatible with a requirement to do both p1 and p2?\n",
      "False\n"
     ]
    }
   ],
   "source": [
    "# For fancy html display\n",
    "from IPython.core.display import display, HTML\n",
    "\n",
    "prejacent = Ex > p1 | p2 # The existential quantifier can be thought of as an existential modal\n",
    "\n",
    "free_choice = Exh(Exh(prejacent, scales = []), scales = []) \n",
    "# no scalar alternatives  for the moment\n",
    "\n",
    "# Let's see what has been computed\n",
    "# First, the alternatives\n",
    "print(\"Alternatives:\")\n",
    "\n",
    "to_display = \"<ul>\"\n",
    "for alt in free_choice.alts:\n",
    "    to_display += \"<li>{}</li>\".format(alt)\n",
    "to_display += \"</ul>\"\n",
    "display(HTML(to_display))\n",
    "\n",
    "# Second, the innocently excludable alternatives\n",
    "free_choice.diagnose()\n",
    "# The result seems right ; let's check entailments\n",
    "\n",
    "fc_universe = Universe(f = free_choice) # one can use f you only have one formula\n",
    "print(\"Am I allowed to do p1?\")\n",
    "print(fc_universe.entails(free_choice, Ex > p1))\n",
    "print(\"Am I allowed to do p2?\")\n",
    "print(fc_universe.entails(free_choice, Ex > p2))\n",
    "\n",
    "# We have weak FC ; what about strong free-choice?\n",
    "print(\"Does the sentence say that I can do p1 without doing p2?\")\n",
    "print(fc_universe.entails(free_choice, Ex > p1 & ~p2)) # We don't have strong FC\n",
    "print(\"Is the sentence compatible with a requirement to do both p1 and p2?\")\n",
    "print(fc_universe.consistent(free_choice, Ax > p1 & p2))\n",
    "\n",
    "# Can we derive strong FC with universal scalar alternatives?\n",
    "someall = [{\"some\", \"all\"}] # we only allow some/all scale, not or/and scale\n",
    "fc_2 = Exh(Exh(prejacent, scales = someall), scales = someall) \n",
    "\n",
    "to_display = \"<ul>\"\n",
    "for alt in fc_2.alts:\n",
    "    to_display += \"<li>{}</li>\".format(alt)\n",
    "to_display += \"</ul>\"\n",
    "display(HTML(to_display))\n",
    "\n",
    "fc_2.diagnose()\n",
    "\n",
    "print(\"Does the sentence say that I can do p1 without doing p2?\")\n",
    "print(fc_universe.entails(fc_2, Ex > p1 & ~p2)) # We don't have strong FC\n",
    "print(\"Is the sentence compatible with a requirement to do both p1 and p2?\")\n",
    "print(fc_universe.consistent(fc_2, Ax > p1 & p2))\n",
    "\n",
    "# One may wonder by sub-constituent replacement, \"Ex, p1(x)\" is not an alternative to \"Exh(Ex, p1(x) or p2(x))\"\n",
    "# If this were so, note that free choice wouldn't be derived.\n",
    "# \"exh\" is set to not be removable by sub-constituent replacement (you can modify this in *options.py*)\n",
    "\n"
   ]
  },
  {
   "cell_type": "markdown",
   "metadata": {},
   "source": [
    "### Innocent inclusion"
   ]
  },
  {
   "cell_type": "markdown",
   "metadata": {},
   "source": [
    "*Exh* can also compute innocent inclusion."
   ]
  },
  {
   "cell_type": "code",
   "execution_count": 24,
   "metadata": {},
   "outputs": [
    {
     "name": "stdout",
     "output_type": "stream",
     "text": [
      "### DISJUNCTION ###\n",
      "Maximal Sets (excl):\n",
      "[b]\n",
      "[a]\n",
      "\n",
      "Innocently excludable: \n",
      "\n",
      "\n",
      "Maximal Sets (incl):\n",
      "[a or b, a, b]\n",
      "\n",
      "Innocently includable: a or b; a; b\n",
      "\n",
      "### FREE CHOICE ###\n",
      "Maximal Sets (excl):\n",
      "[∃x, p1(x) and p2(x), ∃x, p2(x), ∀x, p1(x) or p2(x), ∀x, p1(x) and p2(x), ∀x, p1(x), ∀x, p2(x)]\n",
      "[∃x, p1(x) and p2(x), ∃x, p1(x), ∀x, p1(x) or p2(x), ∀x, p1(x) and p2(x), ∀x, p1(x), ∀x, p2(x)]\n",
      "\n",
      "Innocently excludable: ∃x, p1(x) and p2(x); ∀x, p1(x) or p2(x); ∀x, p1(x) and p2(x); ∀x, p1(x); ∀x, p2(x)\n",
      "\n",
      "\n",
      "Maximal Sets (incl):\n",
      "[∃x, p1(x) or p2(x), ∃x, p1(x), ∃x, p2(x)]\n",
      "\n",
      "Innocently includable: ∃x, p1(x) or p2(x); ∃x, p1(x); ∃x, p2(x)\n",
      "\n",
      "Allowed to do p1 not p2: True\n",
      "Allowed to do p2 not p1: True\n",
      "Allowed to do both: False\n"
     ]
    }
   ],
   "source": [
    "# Strengthening to conjunction, when scalar alternatives are absent\n",
    "print(\"### DISJUNCTION ###\")\n",
    "conj = Exh(a | b, scales = [], ii = True) # ii parameter for innocent inclusion\n",
    "conj.diagnose()\n",
    "\n",
    "print(\"### FREE CHOICE ###\")\n",
    "fc_ii = Exh(Ex > p1 | p2, ii = True) # Automatic alternatives\n",
    "fc_ii.diagnose()\n",
    "\n",
    "print(\"Allowed to do p1 not p2:\", fc_universe.entails(fc_ii, Ex > p1 & ~p2))\n",
    "print(\"Allowed to do p2 not p1:\", fc_universe.entails(fc_ii, Ex > p2 & ~p1))\n",
    "print(\"Allowed to do both:\", fc_universe.consistent(fc_ii, Ex > p2 & p1))"
   ]
  }
 ],
 "metadata": {
  "anaconda-cloud": {},
  "kernelspec": {
   "display_name": "Python 3",
   "language": "python",
   "name": "python3"
  },
  "language_info": {
   "codemirror_mode": {
    "name": "ipython",
    "version": 3
   },
   "file_extension": ".py",
   "mimetype": "text/x-python",
   "name": "python",
   "nbconvert_exporter": "python",
   "pygments_lexer": "ipython3",
   "version": "3.6.5"
  }
 },
 "nbformat": 4,
 "nbformat_minor": 1
}
