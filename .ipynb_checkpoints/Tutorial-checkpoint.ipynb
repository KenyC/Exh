{
 "cells": [
  {
   "cell_type": "markdown",
   "metadata": {},
   "source": [
    "# Tutorial "
   ]
  },
  {
   "cell_type": "markdown",
   "metadata": {},
   "source": [
    "## Imports"
   ]
  },
  {
   "cell_type": "code",
   "execution_count": 2,
   "metadata": {
    "collapsed": false
   },
   "outputs": [],
   "source": [
    "from formula import *\n",
    "from quantifier import *\n",
    "from exh import *"
   ]
  },
  {
   "cell_type": "markdown",
   "metadata": {},
   "source": [
    "## Create formulas\n",
    "\n",
    "Formulas are created from propositional variables. Variables have indices, such that variables with the same index always have the same truth-value and variables with different indices are logically independent. Here is a code to create a variable with index 4."
   ]
  },
  {
   "cell_type": "code",
   "execution_count": 3,
   "metadata": {
    "collapsed": false
   },
   "outputs": [],
   "source": [
    "d = Var(4, name = \"d\") \n",
    "d1 = Var(7) # \"name\" is optional, \"name\" makes prettier display with print and helps for evaluation of formulas"
   ]
  },
  {
   "cell_type": "markdown",
   "metadata": {},
   "source": [
    "By default, *formula.py* creates 3 variables a,b and c with indices 0, 1, 2 respectively. Once some variables are defined, one can create complex formulas with & (and), | (or) and \\~ (not)."
   ]
  },
  {
   "cell_type": "code",
   "execution_count": 4,
   "metadata": {
    "collapsed": false
   },
   "outputs": [
    {
     "name": "stdout",
     "output_type": "stream",
     "text": [
      "a or b\n",
      "a and b\n",
      "a or (not[a] and b)\n"
     ]
    }
   ],
   "source": [
    "f1 = a | b\n",
    "print(f1)\n",
    "f2 = a & b\n",
    "print(f2)\n",
    "f3 = a | (~a & b)\n",
    "print(f3)"
   ]
  },
  {
   "cell_type": "markdown",
   "metadata": {},
   "source": [
    "To turn a propositional variable into a predicate (for use in quantified formulas), one needs to specify the names of the variables it depends on."
   ]
  },
  {
   "cell_type": "code",
   "execution_count": 5,
   "metadata": {
    "collapsed": true
   },
   "outputs": [],
   "source": [
    "d.depends_on(\"x\")"
   ]
  },
  {
   "cell_type": "markdown",
   "metadata": {},
   "source": [
    "Once this is done, one can use the following syntax to create a universal statement (using module *quantifier.py*).  A(\"x\") creates a quantifier over \"x\", which combines with \">\" and a formula to form a quantified formula."
   ]
  },
  {
   "cell_type": "code",
   "execution_count": 6,
   "metadata": {
    "collapsed": false
   },
   "outputs": [
    {
     "name": "stdout",
     "output_type": "stream",
     "text": [
      "∀x, d(x)\n"
     ]
    }
   ],
   "source": [
    "f4 = A(\"x\") > d\n",
    "print(f4)"
   ]
  },
  {
   "cell_type": "markdown",
   "metadata": {},
   "source": [
    "Two simplifying tips:\n",
    "    - Existential and universal quantifiers over x, y, z are created by default under the names Ax, Ey, etc.\n",
    "    - If v is propositional variable, v(\"x\") returns v and sets v to depend on x\n",
    "Most straigthforwardly, one can create a quantified formula as follows"
   ]
  },
  {
   "cell_type": "code",
   "execution_count": 7,
   "metadata": {
    "collapsed": false
   },
   "outputs": [
    {
     "name": "stdout",
     "output_type": "stream",
     "text": [
      "∃y, A7(y)\n"
     ]
    }
   ],
   "source": [
    "f5 = Ey > d1(\"y\")\n",
    "print(f5) # displays as A7 because we haven't given d1 a name"
   ]
  },
  {
   "cell_type": "markdown",
   "metadata": {},
   "source": [
    "## Evaluate formulas\n",
    "The simplest way to evaluate a formula uses the method *evaluate* and the variables' names."
   ]
  },
  {
   "cell_type": "code",
   "execution_count": 8,
   "metadata": {
    "collapsed": false
   },
   "outputs": [
    {
     "name": "stdout",
     "output_type": "stream",
     "text": [
      "'a or b' is True\n"
     ]
    }
   ],
   "source": [
    "print(\"'{}'\".format(f1), \"is\", f1.evaluate(a = True, b = False))"
   ]
  },
  {
   "cell_type": "markdown",
   "metadata": {},
   "source": [
    "In quantified formulas, one needs to provide as many values for a predicate as there are individuals in the domain. The number of individuals in the domain is set in *options.py* and defaults to 3. The three values are provided as a list."
   ]
  },
  {
   "cell_type": "code",
   "execution_count": 9,
   "metadata": {
    "collapsed": false
   },
   "outputs": [
    {
     "name": "stdout",
     "output_type": "stream",
     "text": [
      "'∀x, d(x)' is True\n"
     ]
    }
   ],
   "source": [
    "print(\"'{}'\".format(f4), \"is\", f4.evaluate(d = [True, True, True]))"
   ]
  },
  {
   "cell_type": "markdown",
   "metadata": {},
   "source": [
    "One may need to be more systematic and evaluate the formula over a larget set of assignments of values. The module *universe.py* allows to create the set of worlds with all possible combinations of values for predicates. The *truth_table* method displays the evaluated formula in a fancy chart."
   ]
  },
  {
   "cell_type": "code",
   "execution_count": 10,
   "metadata": {
    "collapsed": false
   },
   "outputs": [
    {
     "name": "stdout",
     "output_type": "stream",
     "text": [
      "[[False False False]\n",
      " [ True False  True]\n",
      " [ True False  True]\n",
      " [ True  True  True]\n",
      " [False False False]\n",
      " [ True False  True]\n",
      " [ True False  True]\n",
      " [ True  True  True]]\n",
      "3\n"
     ]
    },
    {
     "data": {
      "text/html": [
       "<table style = \"\n",
       "\tborder: 1px solid black; \n",
       "    border-collapse: collapse;\n",
       "    font-weight: normal; \n",
       "\t\"><thead><tr><th style =\"\">a</th><th style =\"\">b</th><th style =\"border-right-style: double !important;\">c</th><th style =\"border-left-style: double !important;\">a or b</th><th style =\"\">a and b</th><th style =\"\">a or (not[a] and b)</th></tr></thead><tr><th style =\"\">False</th><th style =\"\">False</th><th style =\"border-right-style: double !important;\">False</th><th style =\"border-left-style: double !important;\">False</th><th style =\"\">False</th><th style =\"\">False</th></tr><tr><th style =\"\">True</th><th style =\"\">False</th><th style =\"border-right-style: double !important;\">False</th><th style =\"border-left-style: double !important;\">True</th><th style =\"\">False</th><th style =\"\">True</th></tr><tr><th style =\"\">False</th><th style =\"\">True</th><th style =\"border-right-style: double !important;\">False</th><th style =\"border-left-style: double !important;\">True</th><th style =\"\">False</th><th style =\"\">True</th></tr><tr><th style =\"\">True</th><th style =\"\">True</th><th style =\"border-right-style: double !important;\">False</th><th style =\"border-left-style: double !important;\">True</th><th style =\"\">True</th><th style =\"\">True</th></tr><tr><th style =\"\">False</th><th style =\"\">False</th><th style =\"border-right-style: double !important;\">True</th><th style =\"border-left-style: double !important;\">False</th><th style =\"\">False</th><th style =\"\">False</th></tr><tr><th style =\"\">True</th><th style =\"\">False</th><th style =\"border-right-style: double !important;\">True</th><th style =\"border-left-style: double !important;\">True</th><th style =\"\">False</th><th style =\"\">True</th></tr><tr><th style =\"\">False</th><th style =\"\">True</th><th style =\"border-right-style: double !important;\">True</th><th style =\"border-left-style: double !important;\">True</th><th style =\"\">False</th><th style =\"\">True</th></tr><tr><th style =\"\">True</th><th style =\"\">True</th><th style =\"border-right-style: double !important;\">True</th><th style =\"border-left-style: double !important;\">True</th><th style =\"\">True</th><th style =\"\">True</th></tr></table>"
      ],
      "text/plain": [
       "<IPython.core.display.HTML object>"
      ]
     },
     "metadata": {},
     "output_type": "display_data"
    }
   ],
   "source": [
    "from worlds import Universe\n",
    "\n",
    "# A Universe can be created from formulas ; the cosntructor extracts all the independent predicates and propositional variables\n",
    "prop_universe = Universe(fs = [a, b, c])\n",
    "\n",
    "print(prop_universe.evaluate(f1, f2, f3))\n",
    "prop_universe.truth_table(f1, f2, f3)\n"
   ]
  },
  {
   "cell_type": "markdown",
   "metadata": {},
   "source": [
    "Universes come with methods to check standard logical relations: entailment, equivalence and consistency"
   ]
  },
  {
   "cell_type": "code",
   "execution_count": 11,
   "metadata": {
    "collapsed": false
   },
   "outputs": [
    {
     "name": "stdout",
     "output_type": "stream",
     "text": [
      "False\n",
      "True\n",
      "False\n"
     ]
    }
   ],
   "source": [
    "# The first three propositions entail that \"not a\" and \"b\", contradicting the fourth. \n",
    "print(prop_universe.consistent(\n",
    "                                a | b,\n",
    "                               ~a | ~b,\n",
    "                               b | ~a,\n",
    "                               a | ~b \n",
    "                              )) \n",
    "print(prop_universe.entails(\n",
    "                            a | ~ b & c,\n",
    "                            ~(b & ~a) \n",
    "                           )) \n",
    "print(prop_universe.equivalent(\n",
    "                                ~a | ~c,\n",
    "                               ~(a & b) \n",
    "                              )) # De Morgan's law"
   ]
  },
  {
   "cell_type": "markdown",
   "metadata": {},
   "source": [
    "## Exhaustification"
   ]
  },
  {
   "cell_type": "markdown",
   "metadata": {},
   "source": [
    "Exhaustification can be computed against a set of stipulated alternatives.\n",
    "\n",
    "**NB:** Innocent exclusions is computed upon creation of the object, expect slowdowns if number of worlds is big."
   ]
  },
  {
   "cell_type": "code",
   "execution_count": 12,
   "metadata": {
    "collapsed": false
   },
   "outputs": [],
   "source": [
    "e = Exh(Ex > d, alts = [Ax > d])"
   ]
  },
  {
   "cell_type": "markdown",
   "metadata": {},
   "source": [
    "There are a couple of ways to know what has been computed. First, the method *diagnose* gives us the innocently excludable alternatives. Second, like any formula, we can evaluate *e* and check that it behaves like \"some but not all\". Third, we can create a *Universe* object and check for equivalence with a known formula"
   ]
  },
  {
   "cell_type": "code",
   "execution_count": 13,
   "metadata": {
    "collapsed": false
   },
   "outputs": [
    {
     "name": "stdout",
     "output_type": "stream",
     "text": [
      "Maximal Sets (excl)\n",
      "[∀x, d(x)]\n",
      "\n",
      "Innocently excludable ∀x, d(x)\n",
      "\n",
      "\n",
      "When all elements are True of the predicate, e is False\n",
      "When some but not all are, e is True\n",
      "When none is, e is False\n",
      "\n",
      "Is e equivalent to 'some but not all'?\n",
      "True\n"
     ]
    }
   ],
   "source": [
    "e.diagnose()\n",
    "\n",
    "print()\n",
    "print(\"When all elements are True of the predicate, e is\", e.evaluate(d = [True, True, True]))\n",
    "print(\"When some but not all are, e is\", e.evaluate(d = [True, False, True]))\n",
    "print(\"When none is, e is\", e.evaluate(d = [False, False, False]))\n",
    "\n",
    "quant_universe = Universe(fs = [e])\n",
    "print()\n",
    "print(\"Is e equivalent to 'some but not all'?\")\n",
    "print(\n",
    "    quant_universe.equivalent(\n",
    "    e,\n",
    "    (Ex > d) & ~(Ax > d)\n",
    "    ))\n",
    "\n"
   ]
  },
  {
   "cell_type": "markdown",
   "metadata": {},
   "source": [
    "Below is a more involved example with more alternatives:"
   ]
  },
  {
   "cell_type": "code",
   "execution_count": 14,
   "metadata": {
    "collapsed": false
   },
   "outputs": [
    {
     "name": "stdout",
     "output_type": "stream",
     "text": [
      "Maximal Sets (excl)\n",
      "[∀x, p1(x) and p2(x), ∀x, p2(x), ∃x, p1(x) and p2(x), ∃x, p2(x)]\n",
      "[∀x, p1(x) and p2(x), ∀x, p1(x), ∀x, p2(x), ∃x, p1(x) and p2(x)]\n",
      "[∀x, p1(x) and p2(x), ∀x, p1(x), ∃x, p1(x) and p2(x), ∃x, p1(x)]\n",
      "\n",
      "Innocently excludable ∀x, p1(x) and p2(x); ∃x, p1(x) and p2(x)\n",
      "\n",
      "Maximal Sets (excl)\n",
      "[∀x, p1(x) and p2(x), ∀x, p1(x), ∀x, p2(x)]\n",
      "\n",
      "Innocently excludable ∀x, p1(x) and p2(x); ∀x, p1(x); ∀x, p2(x)\n",
      "\n",
      "True\n",
      "True\n"
     ]
    }
   ],
   "source": [
    "p1 = Var(5, name = \"p1\")(\"x\") # constructing a new predicate and immediately indicating dependency in x\n",
    "p2 = Var(6, name = \"p2\")(\"x\")\n",
    "\n",
    "prejacent = Ax > p1 | p2\n",
    "\n",
    "exh = Exh(prejacent, alts = [Ax > p1 & p2,\n",
    "                             Ax > p1,\n",
    "                             Ax > p2,\n",
    "                             Ex > p1 & p2,\n",
    "                             Ex > p1,\n",
    "                             Ex > p2])\n",
    "exh.diagnose()\n",
    "# Reads like \"none of them did both p1 and p2\" ; an embedded implicature\n",
    "# What if we didn't have existential alternatives?\n",
    "\n",
    "exh2 = Exh(prejacent, alts = [Ax > p1 & p2,\n",
    "                              Ax > p1,\n",
    "                              Ax > p2])\n",
    "exh2.diagnose()\n",
    "universe = Universe(fs = [exh2])\n",
    "print(universe.entails(exh2, Ex > p1 & ~p2))\n",
    "print(universe.entails(exh2, Ex > p2 & ~p1))\n",
    "# Two implicatures: 1) that someone did only p1, 2) that someone did only p2"
   ]
  },
  {
   "cell_type": "markdown",
   "metadata": {},
   "source": [
    "## Advanced usage"
   ]
  },
  {
   "cell_type": "markdown",
   "metadata": {},
   "source": [
    "### Formulas with multiple quantifiers"
   ]
  },
  {
   "cell_type": "markdown",
   "metadata": {},
   "source": [
    "One can create multiply quantified sentences ; the number of worlds grows exponentially. One predicate that depends on two variables will give rise to 9 independent variables ; we get 2^9 = 512 worlds."
   ]
  },
  {
   "cell_type": "code",
   "execution_count": 15,
   "metadata": {
    "collapsed": false
   },
   "outputs": [
    {
     "name": "stdout",
     "output_type": "stream",
     "text": [
      "Maximal Sets (excl)\n",
      "[∀x, ∃y, d3(x,y), ∃y, ∀x, d3(x,y)]\n",
      "\n",
      "Innocently excludable ∀x, ∃y, d3(x,y); ∃y, ∀x, d3(x,y)\n",
      "\n"
     ]
    }
   ],
   "source": [
    "p3 = Var(13, name = \"d3\")\n",
    "prejacent = Ex > Ay > p3(\"x\", \"y\")\n",
    "\n",
    "e = Exh(prejacent, alts = [Ay > Ex > p3, Ax > Ey > p3, Ey > Ax > p3])\n",
    "e.diagnose()"
   ]
  },
  {
   "cell_type": "markdown",
   "metadata": {},
   "source": [
    "### Constrained universe"
   ]
  }
 ],
 "metadata": {
  "anaconda-cloud": {},
  "kernelspec": {
   "display_name": "Python [default]",
   "language": "python",
   "name": "python3"
  },
  "language_info": {
   "codemirror_mode": {
    "name": "ipython",
    "version": 3
   },
   "file_extension": ".py",
   "mimetype": "text/x-python",
   "name": "python",
   "nbconvert_exporter": "python",
   "pygments_lexer": "ipython3",
   "version": "3.5.2"
  }
 },
 "nbformat": 4,
 "nbformat_minor": 1
}
