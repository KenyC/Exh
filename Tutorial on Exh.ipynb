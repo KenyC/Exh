{
 "cells": [
  {
   "cell_type": "markdown",
   "metadata": {},
   "source": [
    "# Tutorial on Python Exh calculator\n",
    "\n",
    "## Imports\n",
    "\n",
    "To complete the tutorial, run the following imports:"
   ]
  },
  {
   "cell_type": "code",
   "execution_count": 5,
   "metadata": {},
   "outputs": [],
   "source": [
    "from exh import *\n",
    "from formula import *\n",
    "from worlds import Universe"
   ]
  },
  {
   "cell_type": "markdown",
   "metadata": {},
   "source": [
    "## Formulas\n",
    "\n",
    "### Creating formulas\n",
    "\n",
    "Formulas are built from logically independent propositional variables. Each variable is associated with a numerical index. Two variables that share the same index will always receive the same truth-value ; two variables with different index are logically independent. You can create variables as follows:"
   ]
  },
  {
   "cell_type": "code",
   "execution_count": 7,
   "metadata": {},
   "outputs": [],
   "source": [
    "# Creates a variable with index 4\n",
    "d = Var(3)"
   ]
  },
  {
   "cell_type": "markdown",
   "metadata": {},
   "source": [
    "By default, **formula.py** creates three independent variables *a*, *b*, and *c* with index 0,1 and 2 respectively. From these variables, one can build standard propositional formulas using the operators &, | and ~."
   ]
  },
  {
   "cell_type": "code",
   "execution_count": 8,
   "metadata": {},
   "outputs": [],
   "source": [
    "# f : a and not b\n",
    "f = a & ~b\n",
    "# g: (a or b) and (c or d)\n",
    "g = (a | b) & (c | d)"
   ]
  },
  {
   "cell_type": "markdown",
   "metadata": {},
   "source": [
    "A formula's make-up can be displayed using Python *print*"
   ]
  },
  {
   "cell_type": "code",
   "execution_count": 9,
   "metadata": {},
   "outputs": [
    {
     "name": "stdout",
     "output_type": "stream",
     "text": [
      "A0 and [not[A1]]\n",
      "A0 or [A1] and [A2 or [A3]]\n"
     ]
    }
   ],
   "source": [
    "print(f)\n",
    "print(g)"
   ]
  },
  {
   "cell_type": "markdown",
   "metadata": {},
   "source": [
    "### Evaluating formulas\n",
    "\n",
    "The truth value of a formula against a particular assignment of values to the variables can be computed. Assignments are provided as *NumPy* boolean arrays, where the value at index *i* reflects the value assigned to the variable with index *i*."
   ]
  },
  {
   "cell_type": "code",
   "execution_count": 11,
   "metadata": {},
   "outputs": [
    {
     "name": "stdout",
     "output_type": "stream",
     "text": [
      "Value of f: [ True]\n",
      "Value of g: [ True]\n"
     ]
    }
   ],
   "source": [
    "# Assigning variables with index 0 and 2 to true and variables with index 1 and 3 to false\n",
    "assignment = np.array([[True, False, True, False]])\n",
    "\n",
    "# evaluating f and g against assignment\n",
    "print(\"Value of f:\",f.evaluate(assignment))\n",
    "# Output: a and not b = true and not false = true\n",
    "print(\"Value of g:\",g.evaluate(assignment))\n",
    "# Output: (a or b) and (c or d) = (true or false) and (true or false) = true\n",
    " "
   ]
  },
  {
   "cell_type": "markdown",
   "metadata": {},
   "source": [
    "Truth-values can also be obtained for several assignments at the same time. The same function is used."
   ]
  },
  {
   "cell_type": "code",
   "execution_count": 12,
   "metadata": {},
   "outputs": [
    {
     "name": "stdout",
     "output_type": "stream",
     "text": [
      "Value of f: [ True False False]\n",
      "Value of g: [ True False  True]\n"
     ]
    }
   ],
   "source": [
    "assignment = np.array([[True, False, True, False],[True, True, False, False], [True, True, False, True]])\n",
    "print(\"Values of f:\",f.evaluate(assignment))\n",
    "print(\"Values of g:\",g.evaluate(assignment))"
   ]
  },
  {
   "cell_type": "markdown",
   "metadata": {},
   "source": [
    "One may sometimes want to evaluate a formula against all possible assignments of truth-values. To do that, one construct a *Universe* object. This object constructs all possible assignments of truth-values to variables within a certain range. The range is provided as an argument to the constructor."
   ]
  },
  {
   "cell_type": "code",
   "execution_count": 13,
   "metadata": {},
   "outputs": [
    {
     "name": "stdout",
     "output_type": "stream",
     "text": [
      "[[False False False False]\n",
      " [ True False False False]\n",
      " [False  True False False]\n",
      " [ True  True False False]\n",
      " [False False  True False]\n",
      " [ True False  True False]\n",
      " [False  True  True False]\n",
      " [ True  True  True False]\n",
      " [False False False  True]\n",
      " [ True False False  True]\n",
      " [False  True False  True]\n",
      " [ True  True False  True]\n",
      " [False False  True  True]\n",
      " [ True False  True  True]\n",
      " [False  True  True  True]\n",
      " [ True  True  True  True]]\n"
     ]
    }
   ],
   "source": [
    "# Creating all possible assignments for variables from index 0 to index 3\n",
    "u = Universe(4)\n",
    "\n",
    "# Assignments are stored in worlds : we can print them\n",
    "print(u.worlds)"
   ]
  },
  {
   "cell_type": "markdown",
   "metadata": {},
   "source": [
    "We can then use these assignments to compute the truth-tables of the propositional formulas."
   ]
  },
  {
   "cell_type": "code",
   "execution_count": 14,
   "metadata": {},
   "outputs": [
    {
     "name": "stdout",
     "output_type": "stream",
     "text": [
      "All possible values of f [False  True False False False  True False False False  True False False\n",
      " False  True False False]\n",
      "All possible values of g [False False False False False  True  True  True False  True  True  True\n",
      " False  True  True  True]\n"
     ]
    }
   ],
   "source": [
    "# Getting all possible truth-values for f and g using Formula.evaluate\n",
    "print(\"All possible values of f\", f.evaluate(u.worlds))\n",
    "print(\"All possible values of g\", g.evaluate(u.worlds))"
   ]
  },
  {
   "cell_type": "markdown",
   "metadata": {},
   "source": [
    "There is an alternative to the code above. The *Universe* object can be used to evaluate formulas as well. The minor advantage is that it can do it in bulks"
   ]
  },
  {
   "cell_type": "code",
   "execution_count": 15,
   "metadata": {},
   "outputs": [
    {
     "name": "stdout",
     "output_type": "stream",
     "text": [
      "All possible values of f [[False]\n",
      " [ True]\n",
      " [False]\n",
      " [False]\n",
      " [False]\n",
      " [ True]\n",
      " [False]\n",
      " [False]\n",
      " [False]\n",
      " [ True]\n",
      " [False]\n",
      " [False]\n",
      " [False]\n",
      " [ True]\n",
      " [False]\n",
      " [False]]\n",
      "All possible values of g [[False]\n",
      " [False]\n",
      " [False]\n",
      " [False]\n",
      " [False]\n",
      " [ True]\n",
      " [ True]\n",
      " [ True]\n",
      " [False]\n",
      " [ True]\n",
      " [ True]\n",
      " [ True]\n",
      " [False]\n",
      " [ True]\n",
      " [ True]\n",
      " [ True]]\n",
      "All possible values of f [[False False]\n",
      " [ True False]\n",
      " [False False]\n",
      " [False False]\n",
      " [False False]\n",
      " [ True  True]\n",
      " [False  True]\n",
      " [False  True]\n",
      " [False False]\n",
      " [ True  True]\n",
      " [False  True]\n",
      " [False  True]\n",
      " [False False]\n",
      " [ True  True]\n",
      " [False  True]\n",
      " [False  True]]\n"
     ]
    }
   ],
   "source": [
    "# Getting all possible truth-values for f and g using Worlds.evaluate\n",
    "print(\"All possible values of f\", u.evaluate(f))\n",
    "print(\"All possible values of g\", u.evaluate(g))\n",
    "\n",
    "# Getting all possible truth-values for f and g in one line\n",
    "print(\"All possible values of f\", u.evaluate(f, g))"
   ]
  },
  {
   "cell_type": "markdown",
   "metadata": {},
   "source": [
    "## Exhaustifying formulas\n",
    "\n",
    "### Stipulated alternatives\n",
    "\n",
    "To compute the result of exhaustifying a formula *f* against a given set of alternatives, let's construct the object *Exh*. This object can be constructing by specifying the prejacent and the alternatives.\n",
    "\n",
    "**Note:** The computation of innocent inclusion/exclusion is done upon creation of the *Exh* object. Expect slow-down at this stage if the formula is complicated."
   ]
  },
  {
   "cell_type": "code",
   "execution_count": 16,
   "metadata": {},
   "outputs": [
    {
     "name": "stdout",
     "output_type": "stream",
     "text": [
      "[[False  True  True]\n",
      " [ True False  True]\n",
      " [False False False]]\n",
      "[[ True False]\n",
      " [False  True]]\n"
     ]
    }
   ],
   "source": [
    "# Stipulated alternatives\n",
    "h = Exh(a | b, alts = [a, b, a & b])"
   ]
  },
  {
   "cell_type": "markdown",
   "metadata": {},
   "source": [
    "The program does not give you a representation of what *h* is, but one can confirm that it is the exclusive or meaning by looking at its truth-table, as follows:"
   ]
  },
  {
   "cell_type": "code",
   "execution_count": 17,
   "metadata": {},
   "outputs": [
    {
     "name": "stdout",
     "output_type": "stream",
     "text": [
      "[[False]\n",
      " [ True]\n",
      " [ True]\n",
      " [False]]\n"
     ]
    }
   ],
   "source": [
    "print(\"Truth-table of Exh(a or b)\", Universe(2).evaluate(h))"
   ]
  },
  {
   "cell_type": "markdown",
   "metadata": {},
   "source": [
    "One may want further diagnostics from the computation. The following code explains how one displays the maximal sets generated for inclusion and exclusion and the corresponding innocently excludable and innocently includable alternatives"
   ]
  },
  {
   "cell_type": "code",
   "execution_count": 18,
   "metadata": {},
   "outputs": [
    {
     "name": "stdout",
     "output_type": "stream",
     "text": [
      "Maximal exclusion sets [[A1, A0 and [A1]], [A0, A0 and [A1]]]\n",
      "IE alternatives [A0 and [A1]]\n"
     ]
    }
   ],
   "source": [
    "# Exclusion : displaying maximal sets and innocently excludable alternatives\n",
    "print(\"Maximal exclusion sets\",h.e.maximalExclSets)\n",
    "print(\"IE alternatives\",h.e.innocently_excl)"
   ]
  },
  {
   "cell_type": "code",
   "execution_count": 19,
   "metadata": {},
   "outputs": [
    {
     "name": "stdout",
     "output_type": "stream",
     "text": [
      "Maximal exclusion sets [[A0], [A1]]\n",
      "IE alternatives []\n"
     ]
    }
   ],
   "source": [
    "# Inclusion : displaying maximal sets and innocently includable alternatives\n",
    "print(\"Maximal inclusion sets\",h.e.maximalInclSets)\n",
    "print(\"II alternatives\",h.e.innocently_incl)"
   ]
  },
  {
   "cell_type": "markdown",
   "metadata": {},
   "source": [
    "The program can fairly quickly compute the result of exhaust, so long as the number of independent variables stays small (n independent variables -> 2^n instructions). The number of alternatives has little to no influence on the rapidity."
   ]
  },
  {
   "cell_type": "code",
   "execution_count": 22,
   "metadata": {},
   "outputs": [
    {
     "name": "stdout",
     "output_type": "stream",
     "text": [
      "[[False  True  True  True  True  True  True  True  True  True  True  True\n",
      "   True  True  True]\n",
      " [ True False  True  True  True  True  True  True  True  True  True  True\n",
      "   True  True  True]\n",
      " [False False  True  True False  True  True  True  True  True  True  True\n",
      "   True  True  True]\n",
      " [ True  True False  True  True  True  True  True  True  True  True  True\n",
      "   True  True  True]\n",
      " [False  True False  True  True False  True  True  True  True  True  True\n",
      "   True  True  True]\n",
      " [ True False False  True  True  True False  True  True  True  True  True\n",
      "   True  True  True]\n",
      " [False False False  True False False False  True  True  True False  True\n",
      "   True  True  True]\n",
      " [ True  True  True False  True  True  True  True  True  True  True  True\n",
      "   True  True  True]\n",
      " [False  True  True False  True  True  True False  True  True  True  True\n",
      "   True  True  True]\n",
      " [ True False  True False  True  True  True  True False  True  True  True\n",
      "   True  True  True]\n",
      " [False False  True False False  True  True False False  True  True  True\n",
      "   True  True  True]\n",
      " [ True  True False False  True  True  True  True  True False  True  True\n",
      "   True  True  True]\n",
      " [False  True False False  True False  True False  True False  True  True\n",
      "  False  True  True]\n",
      " [ True False False False  True  True False  True False False  True False\n",
      "   True False  True]\n",
      " [False False False False False False False False False False False False\n",
      "  False False False]]\n",
      "[[ True False False False]\n",
      " [False  True False False]\n",
      " [False False  True False]\n",
      " [False False False  True]]\n",
      "Worlds:\n",
      "[[False False False False]\n",
      " [ True False False False]\n",
      " [False  True False False]\n",
      " [ True  True False False]\n",
      " [False False  True False]\n",
      " [ True False  True False]\n",
      " [False  True  True False]\n",
      " [ True  True  True False]\n",
      " [False False False  True]\n",
      " [ True False False  True]\n",
      " [False  True False  True]\n",
      " [ True  True False  True]\n",
      " [False False  True  True]\n",
      " [ True False  True  True]\n",
      " [False  True  True  True]\n",
      " [ True  True  True  True]]\n",
      "Truth-table of Exh(a or b or c or d)\n",
      "[[False]\n",
      " [ True]\n",
      " [ True]\n",
      " [False]\n",
      " [ True]\n",
      " [False]\n",
      " [False]\n",
      " [False]\n",
      " [ True]\n",
      " [False]\n",
      " [False]\n",
      " [False]\n",
      " [False]\n",
      " [False]\n",
      " [False]\n",
      " [False]]\n"
     ]
    }
   ],
   "source": [
    "# There are many alternatives here ; see next section for automatic alternative computations\n",
    "h1 = Exh(a|b|c|d, alts = [a,b,c,d,a&b,a&c,b&c,a&d,b&d,c&d,a&b&c,b&c&d,a&c&d,b&c&d,a&b&c&d])\n",
    "u = Universe(4)\n",
    "print(\"Worlds:\")\n",
    "print(u.worlds)\n",
    "print(\"Truth-table of Exh(a or b or c or d)\")\n",
    "print(u.evaluate(h1))\n"
   ]
  },
  {
   "cell_type": "markdown",
   "metadata": {},
   "source": [
    "### Automatic alternatives\n",
    "\n",
    "When not specified, the alternatives to the prejacent are computed in a Katzirian manner: all alternatives are considered that can be obtained from the prejacent by sub-constituent and scalar substitutions. Which alternatives were obtained by this process can be probed after the object is constructed."
   ]
  },
  {
   "cell_type": "code",
   "execution_count": 23,
   "metadata": {},
   "outputs": [
    {
     "name": "stdout",
     "output_type": "stream",
     "text": [
      "[[ True  True  True  True  True False False  True  True False False  True\n",
      "   True]\n",
      " [ True  True  True  True  True False  True False  True False  True False\n",
      "   True]\n",
      " [ True  True  True  True False False False False False False False False\n",
      "   True]\n",
      " [ True  True  True  True False False False False  True  True  True  True\n",
      "  False]\n",
      " [ True False False  True False False False False  True False False  True\n",
      "  False]\n",
      " [ True False  True False False False False False  True False  True False\n",
      "  False]\n",
      " [False False False False False False False False False False False False\n",
      "  False]]\n",
      "[[False  True  True False  True  True False False]\n",
      " [False  True False  True  True False  True False]\n",
      " [ True  True  True  True False False False  True]]\n",
      "Computed alternatives [A0 and [A1] and [A2], A0 or [A1] and [A2], A0 and [A2], A1 and [A2], A0 and [A1] or [A2], A0 or [A1] or [A2], A0 or [A2], A1 or [A2], A0 and [A1], A0 or [A1], A0, A1, A2]\n"
     ]
    }
   ],
   "source": [
    "h2 = Exh (a | b | c)\n",
    "print(\"Computed alternatives\", h2.e.alts)"
   ]
  }
 ],
 "metadata": {
  "kernelspec": {
   "display_name": "Python 3",
   "language": "python",
   "name": "python3"
  },
  "language_info": {
   "codemirror_mode": {
    "name": "ipython",
    "version": 3
   },
   "file_extension": ".py",
   "mimetype": "text/x-python",
   "name": "python",
   "nbconvert_exporter": "python",
   "pygments_lexer": "ipython3",
   "version": "3.6.5"
  }
 },
 "nbformat": 4,
 "nbformat_minor": 2
}
