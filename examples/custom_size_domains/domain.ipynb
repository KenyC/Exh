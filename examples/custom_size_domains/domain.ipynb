{
 "cells": [
  {
   "cell_type": "markdown",
   "metadata": {},
   "source": [
    "# Setting custom domain sizes\n",
    "\n",
    "Version > 1.0 is required. It should be available on PyPI or from GitHub directly\n"
   ]
  },
  {
   "cell_type": "code",
   "execution_count": 1,
   "metadata": {
    "execution": {
     "iopub.execute_input": "2021-01-15T08:36:47.853956Z",
     "iopub.status.busy": "2021-01-15T08:36:47.841388Z",
     "iopub.status.idle": "2021-01-15T08:36:48.057909Z",
     "shell.execute_reply": "2021-01-15T08:36:48.058544Z"
    }
   },
   "outputs": [
    {
     "name": "stdout",
     "output_type": "stream",
     "text": [
      "1.0\n"
     ]
    }
   ],
   "source": [
    "import exh\n",
    "from exh import *\n",
    "print(exh.__version__)\n"
   ]
  },
  {
   "cell_type": "markdown",
   "metadata": {},
   "source": [
    "To create a custom domain of quantification, use the following:\n"
   ]
  },
  {
   "cell_type": "code",
   "execution_count": 2,
   "metadata": {
    "execution": {
     "iopub.execute_input": "2021-01-15T08:36:48.071030Z",
     "iopub.status.busy": "2021-01-15T08:36:48.069958Z",
     "iopub.status.idle": "2021-01-15T08:36:48.075871Z",
     "shell.execute_reply": "2021-01-15T08:36:48.077848Z"
    }
   },
   "outputs": [],
   "source": [
    "D7 = Domain(7) # domain of size 7\n"
   ]
  },
  {
   "cell_type": "markdown",
   "metadata": {},
   "source": [
    "To use it, you need to define your predicates accordingly.\n",
    "Specify the name of the variables that the predicate depends on in the ``depends`` parameter, and a corresponding list of domain.\n",
    "\n",
    "**Notes:**\n",
    "   - In version 1.0, you can but do not need to specify an index. Each new created predicate will get a new unique index.\n",
    "   - The argument ``domains`` need not be provided, in which case the domains will all be ``default_domain``. The behavior of the predicate will then be exactly the same as in versions < 1.0.\n"
   ]
  },
  {
   "cell_type": "code",
   "execution_count": 3,
   "metadata": {
    "execution": {
     "iopub.execute_input": "2021-01-15T08:36:48.090797Z",
     "iopub.status.busy": "2021-01-15T08:36:48.089359Z",
     "iopub.status.idle": "2021-01-15T08:36:48.093443Z",
     "shell.execute_reply": "2021-01-15T08:36:48.094417Z"
    }
   },
   "outputs": [],
   "source": [
    "apple = Pred(\n",
    "\tname    = \"apple\", \n",
    "\tdepends = [\"x\"], \n",
    "\tdomains = [D7] # the variable \"x\" ranges over D7\n",
    ")\n",
    "\n",
    "\n",
    "eat = Pred(\n",
    "\tname    = \"eat\", \n",
    "\tdepends = [\"x\", \"y\"], \n",
    "\tdomains = [D7, default_domain] # the variable \"x\" ranges over D7 ; y over a default domain whose size is bound to ``exh.model.options.domain_quant``\n",
    ")\n"
   ]
  },
  {
   "cell_type": "markdown",
   "metadata": {},
   "source": [
    "Quantifiers must also be adjusted. You can use ``Ex_in_``, ``Az_in_\", etc., to create a quantifier that ranges over a custom domain.\n"
   ]
  },
  {
   "cell_type": "code",
   "execution_count": 4,
   "metadata": {
    "execution": {
     "iopub.execute_input": "2021-01-15T08:36:48.106686Z",
     "iopub.status.busy": "2021-01-15T08:36:48.104982Z",
     "iopub.status.idle": "2021-01-15T08:36:48.109238Z",
     "shell.execute_reply": "2021-01-15T08:36:48.108650Z"
    }
   },
   "outputs": [],
   "source": [
    "f = Ex_in_(D7) > apple\n",
    "g = Ay > Ex_in_(D7) > eat\n",
    "\n"
   ]
  },
  {
   "cell_type": "markdown",
   "metadata": {},
   "source": [
    "Keep in mind that large domains incur large cost. For instance, even just the following starts to reach the limit of the reasonable:\n"
   ]
  },
  {
   "cell_type": "code",
   "execution_count": 5,
   "metadata": {
    "execution": {
     "iopub.execute_input": "2021-01-15T08:36:48.126674Z",
     "iopub.status.busy": "2021-01-15T08:36:48.126029Z",
     "iopub.status.idle": "2021-01-15T08:36:48.131204Z",
     "shell.execute_reply": "2021-01-15T08:36:48.131792Z"
    }
   },
   "outputs": [
    {
     "name": "stdout",
     "output_type": "stream",
     "text": [
      "Number of worlds: 16384 = 2^(7+7)\n",
      "3 predicates over D7: 2097152\n"
     ]
    }
   ],
   "source": [
    "pear = Pred(\n",
    "\tname    = \"pear\", \n",
    "\tdepends = [\"x\"], \n",
    "\tdomains = [D7] # the variable \"x\" ranges over D7\n",
    ")\n",
    "f = Ex_in_(D7) > apple | pear\n",
    "universe = Universe(f = f)\n",
    "print(\"Number of worlds:\", universe.n_worlds, \"= 2^(7+7)\")\n",
    "\n",
    "# For 3 predicates:\n",
    "print(\"3 predicates over D7:\", 2 ** (7 * 3)) # 2M"
   ]
  }
 ],
 "metadata": {
  "anaconda-cloud": {},
  "kernelspec": {
   "display_name": "Python 3",
   "language": "python",
   "name": "python3"
  },
  "language_info": {
   "codemirror_mode": {
    "name": "ipython",
    "version": 3
   },
   "file_extension": ".py",
   "mimetype": "text/x-python",
   "name": "python",
   "nbconvert_exporter": "python",
   "pygments_lexer": "ipython3",
   "version": "3.6.11"
  }
 },
 "nbformat": 4,
 "nbformat_minor": 4
}
