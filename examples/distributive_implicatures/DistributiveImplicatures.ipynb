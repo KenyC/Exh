{
  "cells": [
    {
      "cell_type": "markdown",
      "metadata": {},
      "source": [
        "Distributive Implicatures\n",
        "===========================\n",
        "\n",
        "From Bar-Lev & Fox (2016)\n",
        "\n",
        "Imports, inputting version, setting to non-LateX display\n"
      ]
    },
    {
      "cell_type": "code",
      "metadata": {},
      "source": [
        "from exh import *\n",
        "# print(exh.__version__)\n",
        "from exh.model import options\n",
        "options.latex_display = False\n",
        "options.dom_quant = 6\n",
        "\n"
      ],
      "outputs": [],
      "execution_count": null
    },
    {
      "cell_type": "markdown",
      "metadata": {},
      "source": [
        "Indicating dependencies on x ; will raise innocuous warnings.\n"
      ]
    },
    {
      "cell_type": "code",
      "metadata": {},
      "source": [
        "a(\"x\")\n",
        "b(\"x\")\n",
        "\n"
      ],
      "outputs": [],
      "execution_count": null
    },
    {
      "cell_type": "markdown",
      "metadata": {},
      "source": [
        "# Case study 1: Universal quantifiers\n",
        "\n",
        "Performing recursive exhaustification step-by-step so that we can see the result of intermediate computations\n"
      ]
    },
    {
      "cell_type": "code",
      "metadata": {},
      "source": [
        "scales = [{Existential, Universal}] # we are not allowing conjunctive alternatives\n",
        "f = Ax > a | b\n",
        "first_exh  = Exh(f,         scales = scales)\n",
        "second_exh = Exh(first_exh, scales = scales)\n",
        "\n",
        "universe = Universe(f = second_exh)\n"
      ],
      "outputs": [],
      "execution_count": null
    },
    {
      "cell_type": "code",
      "metadata": {},
      "source": [
        "first_exh.diagnose(display = print)\n",
        "# Nothing is excludable\n"
      ],
      "outputs": [],
      "execution_count": null
    },
    {
      "cell_type": "code",
      "metadata": {},
      "source": [
        "second_exh.diagnose(display = print)\n",
        "\n",
        "# weak distributivity inferences should be entailed\n",
        "print(universe.entails(second_exh, Ex > a))\n",
        "print(universe.entails(second_exh, Ex > b))\n",
        "\n",
        "# but strong implicatures shouldn't be\n",
        "print(universe.entails(second_exh, Ex > ~a))\n",
        "print(universe.entails(second_exh, Ex > ~b))\n",
        "\n"
      ],
      "outputs": [],
      "execution_count": null
    },
    {
      "cell_type": "markdown",
      "metadata": {},
      "source": [
        "# Case study 2: \"most\"\n",
        "\n",
        "This requires a version of the package 0.7.4 (not posted yet! you can get it from GitHub)\n",
        "\n",
        "We would like to run the same reasoning with \"most\"\n"
      ]
    },
    {
      "cell_type": "code",
      "metadata": {},
      "source": [
        "from exh.exts.gq import *\n",
        "\n",
        "scales = [{Existential, Most}]\n",
        "prejacent = Mx > a | b\n",
        "first_exh = Exh(prejacent, scales = scales)\n",
        "\n"
      ],
      "outputs": [],
      "execution_count": null
    },
    {
      "cell_type": "markdown",
      "metadata": {},
      "source": [
        "Just as before, the first Exh is vacuous\n"
      ]
    },
    {
      "cell_type": "code",
      "metadata": {},
      "source": [
        "first_exh.diagnose(print)\n",
        "\n"
      ],
      "outputs": [],
      "execution_count": null
    },
    {
      "cell_type": "markdown",
      "metadata": {},
      "source": [
        "The second Exh can exclude most of its alternatives\n"
      ]
    },
    {
      "cell_type": "code",
      "metadata": {},
      "source": [
        "second_exh = Exh(first_exh, scales = scales)\n",
        "\n"
      ],
      "outputs": [],
      "execution_count": null
    },
    {
      "cell_type": "markdown",
      "metadata": {},
      "source": [
        "Because it is unclear what these alternatives consists in, let's display and diagnose all of them\n"
      ]
    },
    {
      "cell_type": "code",
      "metadata": {},
      "source": [
        "for alt in second_exh.e.innocently_excl:\n",
        "\tprint(\"########## \", end = \"\")\n",
        "\tprint(alt)\n",
        "\talt.diagnose(print)\n",
        "\n"
      ],
      "outputs": [],
      "execution_count": null
    },
    {
      "cell_type": "markdown",
      "metadata": {},
      "source": [
        "We can now check for entailments: weak SIs are entailed.\n"
      ]
    },
    {
      "cell_type": "code",
      "metadata": {},
      "source": [
        "print(universe.entails(second_exh, Ex > a))\n",
        "print(universe.entails(second_exh, Ex > b))\n",
        "\n",
        "# Is it just equivalent to the weak dist implicatures?\n",
        "print(universe.equivalent(second_exh, prejacent & (Ex > b) & (Ex > a)))\n",
        "\n"
      ],
      "outputs": [],
      "execution_count": null
    },
    {
      "cell_type": "markdown",
      "metadata": {},
      "source": [
        "One may wonder if the same would hold if \"all\" was an alternative to most\n"
      ]
    },
    {
      "cell_type": "code",
      "metadata": {},
      "source": [
        "scales = [{Existential, Most, Universal}]\n",
        "first_exh = Exh(prejacent, scales = scales) # Let's recompute \"first_exh\" with this scale\n",
        "first_exh.diagnose(print)\n",
        "\n"
      ],
      "outputs": [],
      "execution_count": null
    },
    {
      "cell_type": "markdown",
      "metadata": {},
      "source": [
        "Now some exclusion is possible at the first Exh. What about the second Exh? \n"
      ]
    },
    {
      "cell_type": "code",
      "metadata": {},
      "source": [
        "second_exh = Exh(first_exh, scales = scales)\n",
        "second_exh.diagnose(print) \n",
        "\n"
      ],
      "outputs": [],
      "execution_count": null
    },
    {
      "cell_type": "markdown",
      "metadata": {},
      "source": [
        "Most of the excluded alternatives either were already exluded from the first round or were the alternatives we excluded when \"all\" wasn't alternative.\n",
        "This makes me confident that the generated implicatures are simply dist implicatures + \"all\" implicatures ; and indeed, it is so.\n"
      ]
    },
    {
      "cell_type": "code",
      "metadata": {},
      "source": [
        "print(universe.equivalent(\n",
        "\tsecond_exh, \n",
        "\tprejacent & (Ex > b) & (Ex > a) & ~(Ax > a | b)\n",
        "))\n",
        "\n",
        "\n",
        "\n",
        "\n",
        "# %%"
      ],
      "outputs": [],
      "execution_count": null
    }
  ],
  "metadata": {
    "anaconda-cloud": {},
    "kernelspec": {
      "display_name": "Python 3",
      "language": "python",
      "name": "python3"
    },
    "language_info": {
      "codemirror_mode": {
        "name": "ipython",
        "version": 3
      },
      "file_extension": ".py",
      "mimetype": "text/x-python",
      "name": "python",
      "nbconvert_exporter": "python",
      "pygments_lexer": "ipython3",
      "version": "3.6.1"
    }
  },
  "nbformat": 4,
  "nbformat_minor": 4
}