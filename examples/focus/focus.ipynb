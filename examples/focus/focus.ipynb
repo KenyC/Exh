{
 "cells": [
  {
   "cell_type": "markdown",
   "metadata": {},
   "source": [
    "# Setting custom domain sizes\n",
    "\n",
    "Version > 1.1 is required. It should be available on PyPI or from GitHub directly.\n",
    "Focus is an extension and must be activated by importing it after importing \"exh\".\n"
   ]
  },
  {
   "cell_type": "code",
   "execution_count": 1,
   "metadata": {
    "execution": {
     "iopub.execute_input": "2021-10-11T20:55:05.631802Z",
     "iopub.status.busy": "2021-10-11T20:55:05.623432Z",
     "iopub.status.idle": "2021-10-11T20:55:05.750082Z",
     "shell.execute_reply": "2021-10-11T20:55:05.750962Z"
    }
   },
   "outputs": [
    {
     "name": "stdout",
     "output_type": "stream",
     "text": [
      "1.1\n"
     ]
    }
   ],
   "source": [
    "import exh\n",
    "from exh import *\n",
    "from exh.exts.focus import *\n",
    "print(exh.__version__)\n"
   ]
  },
  {
   "cell_type": "markdown",
   "metadata": {},
   "source": [
    "Focus allows you to give stipulated alternatives to specific constituents.\n",
    "Use the constructor \"Focus\" to put focus on apple.\n"
   ]
  },
  {
   "cell_type": "code",
   "execution_count": 2,
   "metadata": {
    "execution": {
     "iopub.execute_input": "2021-10-11T20:55:05.763504Z",
     "iopub.status.busy": "2021-10-11T20:55:05.762883Z",
     "iopub.status.idle": "2021-10-11T20:55:05.766101Z",
     "shell.execute_reply": "2021-10-11T20:55:05.766479Z"
    }
   },
   "outputs": [
    {
     "data": {
      "text/html": [
       "$apple_{F}$"
      ],
      "text/plain": [
       "<IPython.core.display.HTML object>"
      ]
     },
     "metadata": {},
     "output_type": "display_data"
    }
   ],
   "source": [
    "apple      = Pred(name = \"apple\")\n",
    "cantaloupe = Pred(name = \"cantaloupe\")\n",
    "\n",
    "# Creating sentence where \"apple\" is focused and has \"cantaloupe\" as an alternative\n",
    "prejacent = Focus(apple, alts = [cantaloupe]) \n",
    "\n",
    "# A focused constituent is printed with F subscript\n",
    "jprint(prejacent)\n"
   ]
  },
  {
   "cell_type": "markdown",
   "metadata": {},
   "source": [
    "In the absence of exhaustivity operators, a focused element behaves just like its unfocused counterpart.\n"
   ]
  },
  {
   "cell_type": "code",
   "execution_count": 3,
   "metadata": {
    "execution": {
     "iopub.execute_input": "2021-10-11T20:55:05.772069Z",
     "iopub.status.busy": "2021-10-11T20:55:05.771425Z",
     "iopub.status.idle": "2021-10-11T20:55:05.774497Z",
     "shell.execute_reply": "2021-10-11T20:55:05.774926Z"
    }
   },
   "outputs": [
    {
     "name": "stdout",
     "output_type": "stream",
     "text": [
      "Are focused and unfocused formulas are equivalent? True\n"
     ]
    }
   ],
   "source": [
    "focused   = Focus(apple, alts = [cantaloupe]) & Focus(cantaloupe, alts = [apple])\n",
    "unfocused = apple & cantaloupe\n",
    "\n",
    "universe = Universe(fs = [focused, unfocused])\n",
    "\n",
    "print(\n",
    "\t\"Are focused and unfocused formulas are equivalent?\",\n",
    "\tuniverse.equivalent(focused, unfocused)\n",
    ")\n"
   ]
  },
  {
   "cell_type": "markdown",
   "metadata": {},
   "source": [
    "However, focused and unfocused constituents don't give rise to the same alternatives. \n",
    "This can be seen when applying Exh.\n"
   ]
  },
  {
   "cell_type": "code",
   "execution_count": 4,
   "metadata": {
    "execution": {
     "iopub.execute_input": "2021-10-11T20:55:05.782076Z",
     "iopub.status.busy": "2021-10-11T20:55:05.781341Z",
     "iopub.status.idle": "2021-10-11T20:55:05.787067Z",
     "shell.execute_reply": "2021-10-11T20:55:05.786530Z"
    }
   },
   "outputs": [
    {
     "data": {
      "text/html": [
       "[$apple_{F} \\land cantaloupe_{F}$, $apple_{F} \\land apple$, $cantaloupe \\land cantaloupe_{F}$, $cantaloupe \\land apple$, $apple_{F} \\lor cantaloupe_{F}$, $apple_{F} \\lor apple$, $cantaloupe \\lor cantaloupe_{F}$, $cantaloupe \\lor apple$, $apple_{F}$, $cantaloupe$, $cantaloupe_{F}$, $apple$]"
      ],
      "text/plain": [
       "<IPython.core.display.HTML object>"
      ]
     },
     "metadata": {},
     "output_type": "display_data"
    },
    {
     "data": {
      "text/html": [
       "[$apple \\land cantaloupe$, $apple \\lor cantaloupe$, $apple$, $cantaloupe$]"
      ],
      "text/plain": [
       "<IPython.core.display.HTML object>"
      ]
     },
     "metadata": {},
     "output_type": "display_data"
    }
   ],
   "source": [
    "exh1 = Exh(focused)\n",
    "exh2 = Exh(unfocused)\n",
    "\n",
    "# all alternatives obtained by replacing ans simplifying the conjunction\n",
    "# + replacing conjuncts by their focused alternatives\n",
    "jprint(exh1.alts)\n",
    "# all alternatives obtained by replacing ans simplifying the conjunction\n",
    "jprint(exh2.alts)\n"
   ]
  },
  {
   "cell_type": "markdown",
   "metadata": {},
   "source": [
    "**Caveat:** the same predicate can appear focused in one place with a set of alternatives S, unfocused somewhere else,\n",
    "focused with a different set of alternatives S' in some other place. Each occurrence behaves as it is specified: \n",
    "the first occurence has S as alternatives, the second nothing, the third S'.\n"
   ]
  },
  {
   "cell_type": "code",
   "execution_count": 5,
   "metadata": {
    "execution": {
     "iopub.execute_input": "2021-10-11T20:55:05.800788Z",
     "iopub.status.busy": "2021-10-11T20:55:05.799662Z",
     "iopub.status.idle": "2021-10-11T20:55:05.803265Z",
     "shell.execute_reply": "2021-10-11T20:55:05.803895Z"
    }
   },
   "outputs": [
    {
     "data": {
      "text/html": [
       "[$apple_{F} \\lor apple \\lor apple_{F}$, $apple_{F} \\lor apple \\lor kiwi$, $cantaloupe \\lor apple \\lor apple_{F}$, $cantaloupe \\lor apple \\lor kiwi$, $(apple_{F} \\land apple) \\lor apple_{F}$, $(apple_{F} \\land apple) \\lor kiwi$, $(cantaloupe \\land apple) \\lor apple_{F}$, $(cantaloupe \\land apple) \\lor kiwi$, $apple_{F}$, $apple_{F} \\lor kiwi$, $cantaloupe \\lor apple_{F}$, $cantaloupe \\lor kiwi$, $apple \\lor apple_{F}$, $apple \\lor kiwi$, $(apple_{F} \\lor apple) \\land apple_{F}$, $(apple_{F} \\lor apple) \\land kiwi$, $(cantaloupe \\lor apple) \\land apple_{F}$, $(cantaloupe \\lor apple) \\land kiwi$, $apple_{F} \\land apple \\land apple_{F}$, $apple_{F} \\land apple \\land kiwi$, $cantaloupe \\land apple \\land apple_{F}$, $cantaloupe \\land apple \\land kiwi$, $apple_{F} \\land kiwi$, $cantaloupe \\land apple_{F}$, $cantaloupe \\land kiwi$, $apple \\land apple_{F}$, $apple \\land kiwi$, $cantaloupe \\lor apple$, $cantaloupe \\land apple$, $cantaloupe$, $apple$, $kiwi$]"
      ],
      "text/plain": [
       "<IPython.core.display.HTML object>"
      ]
     },
     "metadata": {},
     "output_type": "display_data"
    }
   ],
   "source": [
    "kiwi = Pred(name = \"kiwi\")\n",
    "f = Focus(apple, alts=[cantaloupe]) | apple | Focus(apple, alts=[kiwi])\n",
    "jprint(Exh(f).alts)\n",
    "\n"
   ]
  }
 ],
 "metadata": {
  "anaconda-cloud": {},
  "kernelspec": {
   "display_name": "Python 3",
   "language": "python",
   "name": "python3"
  },
  "language_info": {
   "codemirror_mode": {
    "name": "ipython",
    "version": 3
   },
   "file_extension": ".py",
   "mimetype": "text/x-python",
   "name": "python",
   "nbconvert_exporter": "python",
   "pygments_lexer": "ipython3",
   "version": "3.9.5"
  }
 },
 "nbformat": 4,
 "nbformat_minor": 4
}
