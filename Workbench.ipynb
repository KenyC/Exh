{
 "cells": [
  {
   "cell_type": "code",
   "execution_count": 1,
   "metadata": {
    "collapsed": false
   },
   "outputs": [],
   "source": [
    "import numpy as np\n",
    "\n",
    "from quantifier import *\n",
    "from formula import *\n",
    "import vars\n",
    "from exh import Exh, Exhaust\n",
    "from worlds import Universe"
   ]
  },
  {
   "cell_type": "code",
   "execution_count": 2,
   "metadata": {
    "collapsed": false
   },
   "outputs": [
    {
     "data": {
      "text/plain": [
       "a and b and not[c]"
      ]
     },
     "execution_count": 2,
     "metadata": {},
     "output_type": "execute_result"
    }
   ],
   "source": [
    "f1"
   ]
  },
  {
   "cell_type": "code",
   "execution_count": 3,
   "metadata": {
    "collapsed": false
   },
   "outputs": [
    {
     "data": {
      "text/plain": [
       "<vars.VarManager at 0x28ff4332400>"
      ]
     },
     "execution_count": 3,
     "metadata": {},
     "output_type": "execute_result"
    }
   ],
   "source": [
    "f1.vars()"
   ]
  },
  {
   "cell_type": "code",
   "execution_count": 4,
   "metadata": {
    "collapsed": false
   },
   "outputs": [
    {
     "name": "stdout",
     "output_type": "stream",
     "text": [
      "a and b and not[c]\n"
     ]
    }
   ],
   "source": [
    "print(f1)"
   ]
  },
  {
   "cell_type": "code",
   "execution_count": 5,
   "metadata": {
    "collapsed": false
   },
   "outputs": [
    {
     "name": "stdout",
     "output_type": "stream",
     "text": [
      "3\n"
     ]
    },
    {
     "data": {
      "text/html": [
       "<table style = \"\n",
       "\tborder: 1px solid black; \n",
       "    border-collapse: collapse;\n",
       "    font-weight: normal; \n",
       "\t\"><thead><tr><th style =\"\">a</th><th style =\"\">b</th><th style =\"border-right-style: double !important;\">c</th><th style =\"border-left-style: double !important;\">a and b and not[c]</th><th style =\"\">a or b</th></tr></thead><tr><th style =\"\">False</th><th style =\"\">False</th><th style =\"border-right-style: double !important;\">False</th><th style =\"border-left-style: double !important;\">False</th><th style =\"\">False</th></tr><tr><th style =\"\">True</th><th style =\"\">False</th><th style =\"border-right-style: double !important;\">False</th><th style =\"border-left-style: double !important;\">False</th><th style =\"\">True</th></tr><tr><th style =\"\">False</th><th style =\"\">True</th><th style =\"border-right-style: double !important;\">False</th><th style =\"border-left-style: double !important;\">False</th><th style =\"\">True</th></tr><tr><th style =\"\">True</th><th style =\"\">True</th><th style =\"border-right-style: double !important;\">False</th><th style =\"border-left-style: double !important;\">True</th><th style =\"\">True</th></tr><tr><th style =\"\">False</th><th style =\"\">False</th><th style =\"border-right-style: double !important;\">True</th><th style =\"border-left-style: double !important;\">False</th><th style =\"\">False</th></tr><tr><th style =\"\">True</th><th style =\"\">False</th><th style =\"border-right-style: double !important;\">True</th><th style =\"border-left-style: double !important;\">False</th><th style =\"\">True</th></tr><tr><th style =\"\">False</th><th style =\"\">True</th><th style =\"border-right-style: double !important;\">True</th><th style =\"border-left-style: double !important;\">False</th><th style =\"\">True</th></tr><tr><th style =\"\">True</th><th style =\"\">True</th><th style =\"border-right-style: double !important;\">True</th><th style =\"border-left-style: double !important;\">False</th><th style =\"\">True</th></tr></table>"
      ],
      "text/plain": [
       "<IPython.core.display.HTML object>"
      ]
     },
     "metadata": {},
     "output_type": "display_data"
    }
   ],
   "source": [
    "u = Universe(f = f1)\n",
    "u.truth_table(f1, a | b)"
   ]
  },
  {
   "cell_type": "code",
   "execution_count": 7,
   "metadata": {
    "collapsed": false
   },
   "outputs": [
    {
     "name": "stdout",
     "output_type": "stream",
     "text": [
      "[0, 1, 2]\n",
      "{'a': 0, 'c': 2, 'b': 1}\n",
      "{0: set(), 1: set(), 2: set()}\n",
      "{0: 0, 1: 1, 2: 2}\n"
     ]
    }
   ],
   "source": [
    "print(u.vm.offset)\n",
    "print(u.vm.names)\n",
    "print(u.vm.preds)\n",
    "print(u.vm.var_to_vm_index)"
   ]
  },
  {
   "cell_type": "code",
   "execution_count": 12,
   "metadata": {
    "collapsed": false
   },
   "outputs": [
    {
     "name": "stdout",
     "output_type": "stream",
     "text": [
      "()\n"
     ]
    }
   ],
   "source": [
    "import itertools\n",
    "\n",
    "for i in itertools.product(range(3), repeat = 0):\n",
    "    print(i)"
   ]
  },
  {
   "cell_type": "code",
   "execution_count": 1,
   "metadata": {
    "collapsed": false
   },
   "outputs": [],
   "source": [
    "from table import *"
   ]
  },
  {
   "cell_type": "code",
   "execution_count": 2,
   "metadata": {
    "collapsed": false
   },
   "outputs": [
    {
     "data": {
      "text/html": [
       "<table style = \"\n",
       "\tborder: 1px solid black; \n",
       "    border-collapse: collapse; \n",
       "\t\"><thead><tr><th>12</th><th>True</th></tr></thead><tr><th>18798972</th><th>12.989</th></tr><tr><th>zfefzeezf</th><th>fzzef</th></tr></table>"
      ],
      "text/plain": [
       "<IPython.core.display.HTML object>"
      ]
     },
     "metadata": {},
     "output_type": "display_data"
    }
   ],
   "source": [
    "t = Table()\n",
    "t.set_header([12, True])\n",
    "t.add_row([18798972, 12.989])\n",
    "t.add_row([\"zfefzeezf\", \"fzzef\"])\n",
    "\n",
    "t.print()"
   ]
  }
 ],
 "metadata": {
  "anaconda-cloud": {},
  "kernelspec": {
   "display_name": "Python [default]",
   "language": "python",
   "name": "python3"
  },
  "language_info": {
   "codemirror_mode": {
    "name": "ipython",
    "version": 3
   },
   "file_extension": ".py",
   "mimetype": "text/x-python",
   "name": "python",
   "nbconvert_exporter": "python",
   "pygments_lexer": "ipython3",
   "version": "3.5.2"
  }
 },
 "nbformat": 4,
 "nbformat_minor": 1
}
