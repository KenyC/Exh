{
 "cells": [
  {
   "cell_type": "code",
   "execution_count": 1,
   "metadata": {
    "collapsed": false
   },
   "outputs": [],
   "source": [
    "import numpy as np\n",
    "\n",
    "from quantifier import *\n",
    "from formula import *\n",
    "import vars\n",
    "from exh import Exh, Exhaust\n",
    "from worlds import Universe"
   ]
  },
  {
   "cell_type": "code",
   "execution_count": 24,
   "metadata": {
    "collapsed": false
   },
   "outputs": [
    {
     "name": "stdout",
     "output_type": "stream",
     "text": [
      "∀x, ∃y, a(x,y)\n"
     ]
    }
   ],
   "source": [
    "F1 = Ax > Ey> a(\"x\", \"y\")\n",
    "print(F1)"
   ]
  },
  {
   "cell_type": "code",
   "execution_count": 25,
   "metadata": {
    "collapsed": false
   },
   "outputs": [
    {
     "name": "stdout",
     "output_type": "stream",
     "text": [
      "∀y, ∃x, a(x,y)\n"
     ]
    }
   ],
   "source": [
    "F2 = Ay > Ex > a(\"x\", \"y\")\n",
    "print(F2)"
   ]
  },
  {
   "cell_type": "code",
   "execution_count": 26,
   "metadata": {
    "collapsed": false
   },
   "outputs": [
    {
     "name": "stdout",
     "output_type": "stream",
     "text": [
      "∃x, ∀y, a(x,y)\n"
     ]
    }
   ],
   "source": [
    "F3 = Ex > Ay > a\n",
    "print(F3)"
   ]
  },
  {
   "cell_type": "code",
   "execution_count": 27,
   "metadata": {
    "collapsed": false
   },
   "outputs": [
    {
     "name": "stdout",
     "output_type": "stream",
     "text": [
      "∃y, ∀x, a(x,y)\n"
     ]
    }
   ],
   "source": [
    "F4 = Ey > Ax >a\n",
    "print(F4)"
   ]
  },
  {
   "cell_type": "code",
   "execution_count": 6,
   "metadata": {
    "collapsed": false
   },
   "outputs": [],
   "source": [
    "u = Universe(fs = [F1, F2, F3, F4])"
   ]
  },
  {
   "cell_type": "code",
   "execution_count": 7,
   "metadata": {
    "collapsed": false
   },
   "outputs": [
    {
     "data": {
      "text/plain": [
       "False"
      ]
     },
     "execution_count": 7,
     "metadata": {},
     "output_type": "execute_result"
    }
   ],
   "source": [
    "u.consistent(Ex > ~a,  F2)"
   ]
  },
  {
   "cell_type": "code",
   "execution_count": 28,
   "metadata": {
    "collapsed": false
   },
   "outputs": [],
   "source": [
    "F =  Exhaust(F1, alts = [F2, F3, F4])\n",
    "    \n",
    "    "
   ]
  },
  {
   "cell_type": "code",
   "execution_count": 29,
   "metadata": {
    "collapsed": false
   },
   "outputs": [
    {
     "name": "stdout",
     "output_type": "stream",
     "text": [
      "[[ True  True False]\n",
      " [ True  True  True]\n",
      " [ True  True False]\n",
      " ..., \n",
      " [False False False]\n",
      " [False False False]\n",
      " [False False False]]\n"
     ]
    },
    {
     "data": {
      "text/plain": [
       "[∀y, ∃x, a(x,y), ∃x, ∀y, a(x,y), ∃y, ∀x, a(x,y)]"
      ]
     },
     "execution_count": 29,
     "metadata": {},
     "output_type": "execute_result"
    }
   ],
   "source": [
    "F.innocently_excludable()"
   ]
  },
  {
   "cell_type": "code",
   "execution_count": 21,
   "metadata": {
    "collapsed": false
   },
   "outputs": [
    {
     "data": {
      "text/plain": [
       "[]"
      ]
     },
     "execution_count": 21,
     "metadata": {},
     "output_type": "execute_result"
    }
   ],
   "source": [
    "F.innocently_includable()"
   ]
  },
  {
   "cell_type": "code",
   "execution_count": 30,
   "metadata": {
    "collapsed": false
   },
   "outputs": [
    {
     "name": "stdout",
     "output_type": "stream",
     "text": [
      "Maximal Sets (excl) [[∀y, ∃x, a(x,y), ∃x, ∀y, a(x,y), ∃y, ∀x, a(x,y)]]\n",
      "Innocently excludable [∀y, ∃x, a(x,y), ∃x, ∀y, a(x,y), ∃y, ∀x, a(x,y)]\n"
     ]
    }
   ],
   "source": [
    "F.diagnose()"
   ]
  },
  {
   "cell_type": "code",
   "execution_count": 23,
   "metadata": {
    "collapsed": false
   },
   "outputs": [
    {
     "data": {
      "text/plain": [
       "6"
      ]
     },
     "execution_count": 23,
     "metadata": {},
     "output_type": "execute_result"
    }
   ],
   "source": [
    "F.u.n"
   ]
  }
 ],
 "metadata": {
  "anaconda-cloud": {},
  "kernelspec": {
   "display_name": "Python [default]",
   "language": "python",
   "name": "python3"
  },
  "language_info": {
   "codemirror_mode": {
    "name": "ipython",
    "version": 3
   },
   "file_extension": ".py",
   "mimetype": "text/x-python",
   "name": "python",
   "nbconvert_exporter": "python",
   "pygments_lexer": "ipython3",
   "version": "3.5.2"
  }
 },
 "nbformat": 4,
 "nbformat_minor": 1
}
